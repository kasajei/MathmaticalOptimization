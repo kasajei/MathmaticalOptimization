{
 "cells": [
  {
   "cell_type": "code",
   "execution_count": 1,
   "metadata": {
    "collapsed": true,
    "deletable": true,
    "editable": true
   },
   "outputs": [],
   "source": [
    "from pulp import *\n",
    "import pandas as pd"
   ]
  },
  {
   "cell_type": "markdown",
   "metadata": {
    "deletable": true,
    "editable": true
   },
   "source": [
    "[参考](http://qiita.com/Tsutomu-KKE@github/items/070ca9cb37c6b2b492f0)\n",
    "\n",
    ">材料AとBから合成できる化学製品XとYをたくさん作成したい。\n",
    "Xを1kg作るのに、Aが1kg、Bが2kg必要である。\n",
    "Yを1kg作るのに、Aが3kg、Bが1kg必要である。\n",
    "また、XもYも1kg当りの価格は100円である。\n",
    "材料Aは16kg、Bは18kgしかないときに、XとYの価格の合計が最大になるようにするには、\n",
    "XとYをどれだけ作成すればよいか求めよ。"
   ]
  },
  {
   "cell_type": "code",
   "execution_count": 2,
   "metadata": {
    "collapsed": false,
    "deletable": true,
    "editable": true
   },
   "outputs": [
    {
     "data": {
      "text/plain": [
       "1"
      ]
     },
     "execution_count": 2,
     "metadata": {},
     "output_type": "execute_result"
    }
   ],
   "source": [
    "m = LpProblem(sense=LpMaximize) # 数理モデル\n",
    "x = LpVariable('x', lowBound=0) # 変数\n",
    "y = LpVariable('y', lowBound=0) # 変数\n",
    "m += 100 * x + 100 * y # 目的関数\n",
    "m += x + 2 * y <= 16 # 材料Aの上限の制約条件\n",
    "m += 3 * x + y <= 18 # 材料Bの上限の制約条件\n",
    "m.solve() # ソルバーの実行"
   ]
  },
  {
   "cell_type": "code",
   "execution_count": 3,
   "metadata": {
    "collapsed": false,
    "deletable": true,
    "editable": true
   },
   "outputs": [
    {
     "name": "stdout",
     "output_type": "stream",
     "text": [
      "4.0 6.0\n"
     ]
    }
   ],
   "source": [
    "print(value(x), value(y)) # 4, 6"
   ]
  },
  {
   "cell_type": "code",
   "execution_count": null,
   "metadata": {
    "collapsed": true,
    "deletable": true,
    "editable": true
   },
   "outputs": [],
   "source": []
  }
 ],
 "metadata": {
  "kernelspec": {
   "display_name": "Python 3",
   "language": "python",
   "name": "python3"
  },
  "language_info": {
   "codemirror_mode": {
    "name": "ipython",
    "version": 3
   },
   "file_extension": ".py",
   "mimetype": "text/x-python",
   "name": "python",
   "nbconvert_exporter": "python",
   "pygments_lexer": "ipython3",
   "version": "3.6.0"
  }
 },
 "nbformat": 4,
 "nbformat_minor": 2
}
